{
 "cells": [
  {
   "cell_type": "markdown",
   "metadata": {
    "pycharm": {
     "name": "#%% md\n"
    }
   },
   "source": [
    "Genome similarity matrix calculation\n",
    "---"
   ]
  },
  {
   "cell_type": "code",
   "execution_count": 1,
   "metadata": {
    "pycharm": {
     "is_executing": false
    }
   },
   "outputs": [
    {
     "ename": "ModuleNotFoundError",
     "evalue": "No module named 'covid19'",
     "output_type": "error",
     "traceback": [
      "\u001b[0;31m---------------------------------------------------------------------------\u001b[0m",
      "\u001b[0;31mModuleNotFoundError\u001b[0m                       Traceback (most recent call last)",
      "\u001b[0;32m<ipython-input-1-16b3df3e6f37>\u001b[0m in \u001b[0;36m<module>\u001b[0;34m\u001b[0m\n\u001b[1;32m      1\u001b[0m \u001b[0;32mimport\u001b[0m \u001b[0mos\u001b[0m\u001b[0;34m\u001b[0m\u001b[0;34m\u001b[0m\u001b[0m\n\u001b[1;32m      2\u001b[0m \u001b[0;32mimport\u001b[0m \u001b[0mmatplotlib\u001b[0m\u001b[0;34m.\u001b[0m\u001b[0mpyplot\u001b[0m \u001b[0;32mas\u001b[0m \u001b[0mplt\u001b[0m\u001b[0;34m\u001b[0m\u001b[0;34m\u001b[0m\u001b[0m\n\u001b[0;32m----> 3\u001b[0;31m \u001b[0;32mfrom\u001b[0m \u001b[0mcovid19\u001b[0m\u001b[0;34m.\u001b[0m\u001b[0mcompute_helpers\u001b[0m \u001b[0;32mimport\u001b[0m \u001b[0msimilarity_matrix\u001b[0m\u001b[0;34m\u001b[0m\u001b[0;34m\u001b[0m\u001b[0m\n\u001b[0m\u001b[1;32m      4\u001b[0m \u001b[0;32mfrom\u001b[0m \u001b[0mcovid19\u001b[0m\u001b[0;34m.\u001b[0m\u001b[0mdatasets\u001b[0m \u001b[0;32mimport\u001b[0m \u001b[0mdatasets_dir\u001b[0m\u001b[0;34m\u001b[0m\u001b[0;34m\u001b[0m\u001b[0m\n\u001b[1;32m      5\u001b[0m \u001b[0;32mfrom\u001b[0m \u001b[0mcovid19\u001b[0m\u001b[0;34m.\u001b[0m\u001b[0mfile_helpers\u001b[0m \u001b[0;32mimport\u001b[0m \u001b[0msave_genomes\u001b[0m\u001b[0;34m,\u001b[0m \u001b[0mload_genomes\u001b[0m\u001b[0;34m,\u001b[0m \u001b[0msave_similarity_matrix\u001b[0m\u001b[0;34m,\u001b[0m \u001b[0mload_similarity_matrix\u001b[0m\u001b[0;34m\u001b[0m\u001b[0;34m\u001b[0m\u001b[0m\n",
      "\u001b[0;31mModuleNotFoundError\u001b[0m: No module named 'covid19'"
     ]
    }
   ],
   "source": [
    "import os\n",
    "import matplotlib.pyplot as plt\n",
    "from covid19.compute_helpers import similarity_matrix\n",
    "from covid19.datasets import datasets_dir\n",
    "from covid19.file_helpers import save_genomes, load_genomes, save_similarity_matrix, load_similarity_matrix\n",
    "\n",
    "from covid19.net_helpers import download_genomes\n",
    "from covid19.plot_helpers import plot_genomes_by_length\n",
    "\n",
    "# JSON file containing the downloaded genome data\n",
    "genomes_file = os.path.join(datasets_dir, 'genomes.json')\n",
    "\n",
    "# Numpy compressed file that contains the genome similarity matrix\n",
    "similarity_matrix_file = os.path.join(datasets_dir, 'similarity_matrix.npz')"
   ]
  },
  {
   "cell_type": "markdown",
   "metadata": {},
   "source": [
    "Download the latest genome data"
   ]
  },
  {
   "cell_type": "code",
   "execution_count": 2,
   "metadata": {
    "pycharm": {
     "is_executing": false,
     "name": "#%%\n"
    }
   },
   "outputs": [
    {
     "name": "stdout",
     "output_type": "stream",
     "text": [
      "Skipped 140/615 incomplete sequences\n"
     ]
    }
   ],
   "source": [
    "genomes = download_genomes()\n",
    "save_genomes(genomes, genomes_file)"
   ]
  },
  {
   "cell_type": "markdown",
   "metadata": {},
   "source": [
    "Or load the data from an existing file"
   ]
  },
  {
   "cell_type": "code",
   "execution_count": 3,
   "metadata": {
    "pycharm": {
     "is_executing": false,
     "name": "#%%\n"
    }
   },
   "outputs": [],
   "source": [
    "genomes = load_genomes(genomes_file)"
   ]
  },
  {
   "cell_type": "markdown",
   "metadata": {},
   "source": [
    "Plot the genome data by length"
   ]
  },
  {
   "cell_type": "code",
   "execution_count": 4,
   "metadata": {
    "pycharm": {
     "is_executing": false,
     "name": "#%%\n"
    }
   },
   "outputs": [
    {
     "data": {
      "image/png": "[encoded data removed]",
      "text/plain": [
       "<Figure size 432x288 with 1 Axes>"
      ]
     },
     "metadata": {
      "needs_background": "light"
     },
     "output_type": "display_data"
    }
   ],
   "source": [
    "fig = plt.figure()\n",
    "plot_genomes_by_length(genomes, fig)\n",
    "plt.show()"
   ]
  },
  {
   "cell_type": "markdown",
   "metadata": {},
   "source": [
    "Calculate the similarity matrix. This is done in parallel and could take a long time.\n",
    "\n",
    "Given a list of genome sequences:\n",
    "\n",
    "\\begin{equation}\n",
    "\\bar{s} = [s_1, s_2, s_3, \\dots, s_N]\n",
    "\\end{equation}\n",
    "\n",
    "Its similarity matrix is defined as\n",
    "\n",
    "\\begin{equation}\n",
    "S =\n",
    "\\begin{bmatrix}\n",
    "1 & s_{12} & s_{13} & \\dots & s_{1N} \\\\\n",
    "s_{21} & 1 & s_{23} & \\dots & s_{2N} \\\\\n",
    "s_{31} & s_{32} & 1 & \\dots & s_{3N} \\\\\n",
    "\\vdots & \\vdots & \\vdots & \\ddots & \\vdots \\\\\n",
    "s_{N1} & s_{N2} & s_{N3} & \\dots & 1\n",
    "\\end{bmatrix}\n",
    "\\end{equation}\n",
    "\n",
    "with:\n",
    "\n",
    "\\begin{equation}\n",
    "s_{ij} = s_{ji} = \\frac{L(s_i, s_j)}{\\max(|s_1|, |s_2|)} \\text{ } \\forall 1 \\leq i, j \\leq N\n",
    "\\end{equation}\n",
    "\n",
    "where $L(s_i, s_j)$ is the [_Levenshtein distance_](https://en.wikipedia.org/wiki/Levenshtein_distance)\n",
    "between $s_i$ and $s_j$."
   ]
  },
  {
   "cell_type": "code",
   "execution_count": 5,
   "metadata": {
    "pycharm": {
     "is_executing": false,
     "name": "#%%\n"
    }
   },
   "outputs": [],
   "source": [
    "matrix = similarity_matrix(genomes)"
   ]
  },
  {
   "cell_type": "markdown",
   "metadata": {},
   "source": [
    "Save the similarity matrix to file"
   ]
  },
  {
   "cell_type": "code",
   "execution_count": null,
   "metadata": {
    "pycharm": {
     "is_executing": true,
     "name": "#%%\n"
    }
   },
   "outputs": [],
   "source": [
    "save_similarity_matrix(matrix, similarity_matrix_file)"
   ]
  },
  {
   "cell_type": "markdown",
   "metadata": {},
   "source": [
    "Load the matrix from file"
   ]
  },
  {
   "cell_type": "code",
   "execution_count": null,
   "metadata": {
    "pycharm": {
     "is_executing": true,
     "name": "#%%\n"
    }
   },
   "outputs": [],
   "source": [
    "matrix = load_similarity_matrix(similarity_matrix_file)"
   ]
  }
 ],
 "metadata": {
  "kernelspec": {
   "display_name": "Python 3",
   "language": "python",
   "name": "python3"
  },
  "language_info": {
   "codemirror_mode": {
    "name": "ipython",
    "version": 3
   },
   "file_extension": ".py",
   "mimetype": "text/x-python",
   "name": "python",
   "nbconvert_exporter": "python",
   "pygments_lexer": "ipython3",
   "version": "3.8.2"
  }
 },
 "nbformat": 4,
 "nbformat_minor": 1
}
